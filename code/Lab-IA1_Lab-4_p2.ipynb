{
 "cells": [
  {
   "cell_type": "markdown",
   "metadata": {
    "id": "Z6beSYxiDhgk"
   },
   "source": [
    "# Práctica 4 (Parte 2): Análisis en componentes principales (PCA)\n",
    "\n",
    "+ __Estudiante 1:__\n",
    "+ __Estudiante 2:__\n"
   ]
  },
  {
   "cell_type": "markdown",
   "metadata": {
    "id": "ljb_EP06DxTZ"
   },
   "source": [
    "# 0. Librerías."
   ]
  },
  {
   "cell_type": "code",
   "execution_count": 1,
   "metadata": {
    "id": "nG1KhLeuDfhk"
   },
   "outputs": [],
   "source": [
    "#Librerías de interés.\n",
    "\n",
    "import pandas as pd\n",
    "import matplotlib.pyplot as plt\n",
    "import seaborn as sns\n",
    "import numpy as np"
   ]
  },
  {
   "cell_type": "markdown",
   "metadata": {
    "id": "wIwIJlwmZBiK"
   },
   "source": [
    "## 1. Datos de entrada\n",
    "\n",
    "Vamos a utilizar un subconjunto muy pequeño del conjunto de datos MNIST que Kaggle aloja en su repositorio (https://www.kaggle.com/oddrationale/mnist-in-csv). Utilizaremos un archivo para entrenamiento y otro diferente para pruebas: \"mnist_train_small.csv\", y \"mnist_test_small.csv\", respectivamente. Cada una de las filas de estos conjuntos de datos tiene 785 columnas. La primera columna se denomina 'label' y corresponde a la categoría que es un número entre 0 y 9. Las 784 columnas restantes corresponden a los valores de los píxeles de una imagen cuadrada de 28x28 en escala de grises, donde cada píxel sólo puede tomar valores entre 0 y 255. "
   ]
  },
  {
   "cell_type": "code",
   "execution_count": 2,
   "metadata": {
    "scrolled": true
   },
   "outputs": [],
   "source": [
    "# Vamos a leer el conjunto de datos en un dataframe de pandas.\n",
    "\n",
    "df = pd.read_csv('../Datasets/mnist_train_small.csv')"
   ]
  },
  {
   "cell_type": "markdown",
   "metadata": {},
   "source": [
    "## 2. Análisis Exploratorio"
   ]
  },
  {
   "cell_type": "code",
   "execution_count": 3,
   "metadata": {},
   "outputs": [
    {
     "data": {
      "text/plain": [
       "(1000, 785)"
      ]
     },
     "execution_count": 3,
     "metadata": {},
     "output_type": "execute_result"
    }
   ],
   "source": [
    "df.shape"
   ]
  },
  {
   "cell_type": "code",
   "execution_count": 4,
   "metadata": {},
   "outputs": [
    {
     "name": "stdout",
     "output_type": "stream",
     "text": [
      "El conjunto de datos tiene 1000 observaciones\n",
      "Nombres de las columnas: \n",
      "Index(['label', '1x1', '1x2', '1x3', '1x4', '1x5', '1x6', '1x7', '1x8', '1x9',\n",
      "       ...\n",
      "       '28x19', '28x20', '28x21', '28x22', '28x23', '28x24', '28x25', '28x26',\n",
      "       '28x27', '28x28'],\n",
      "      dtype='object', length=785)\n",
      "\n",
      "Tipos de datos de cada columna: \n",
      "label    int64\n",
      "1x1      int64\n",
      "1x2      int64\n",
      "1x3      int64\n",
      "1x4      int64\n",
      "         ...  \n",
      "28x24    int64\n",
      "28x25    int64\n",
      "28x26    int64\n",
      "28x27    int64\n",
      "28x28    int64\n",
      "Length: 785, dtype: object\n",
      "\n"
     ]
    },
    {
     "data": {
      "image/png": "[encoded data removed]",
      "text/plain": [
       "<Figure size 432x288 with 1 Axes>"
      ]
     },
     "metadata": {
      "needs_background": "light"
     },
     "output_type": "display_data"
    }
   ],
   "source": [
    "#¿Cuántas observaciones tenemos?\n",
    "print('El conjunto de datos tiene {} observaciones'.format(df.shape[0]))  #Número de filas. \n",
    "\n",
    "#Revisemos los encabezados\n",
    "print('Nombres de las columnas: \\n', df.columns,'\\n',sep='')\n",
    "\n",
    "#Revisemos algunos atributos del conjunto de datos. \n",
    "print('Tipos de datos de cada columna: \\n', df.dtypes,'\\n',sep='')\n",
    "\n",
    "#La salida es la columna 0 que corresponde a 'label'.\n",
    "#Las columnas de la 1 hasta la última corresponden a los valores de píxeles en posiciones específicas (fila, columna) de una matriz cuadrada de 28 x 28 elementos. \n",
    "plt.figure\n",
    "plt.hist(df['label'],bins=list(np.arange(-0.5,10.0,0.5)),align='left')\n",
    "plt.xlim(-0.5,9.5)\n",
    "plt.xticks(list(np.arange(0,10,1)));\n",
    "plt.xlabel('Dígito.')\n",
    "plt.ylabel('Número de observaciones.')\n",
    "plt.title('Histograma de observaciones por dígito')\n",
    "plt.show()\n"
   ]
  },
  {
   "cell_type": "code",
   "execution_count": 5,
   "metadata": {},
   "outputs": [
    {
     "name": "stdout",
     "output_type": "stream",
     "text": [
      "\n",
      "La salida deseada es 5.\n"
     ]
    },
    {
     "data": {
      "image/png": "[encoded data removed]",
      "text/plain": [
       "<Figure size 432x288 with 1 Axes>"
      ]
     },
     "metadata": {
      "needs_background": "light"
     },
     "output_type": "display_data"
    },
    {
     "name": "stdout",
     "output_type": "stream",
     "text": [
      "\n",
      "La salida deseada es 0.\n"
     ]
    },
    {
     "data": {
      "image/png": "[encoded data removed]",
      "text/plain": [
       "<Figure size 432x288 with 1 Axes>"
      ]
     },
     "metadata": {
      "needs_background": "light"
     },
     "output_type": "display_data"
    },
    {
     "name": "stdout",
     "output_type": "stream",
     "text": [
      "\n",
      "La salida deseada es 4.\n"
     ]
    },
    {
     "data": {
      "image/png": "[encoded data removed]",
      "text/plain": [
       "<Figure size 432x288 with 1 Axes>"
      ]
     },
     "metadata": {
      "needs_background": "light"
     },
     "output_type": "display_data"
    }
   ],
   "source": [
    "# Revisemos cómo se ven algunas de las observaciones cuando las graficamos como imágenes.\n",
    "observaciones_a_visualizar = 3 #Número de observaciones a visualizar del conjunto de datos. \n",
    "\n",
    "for obs_number in range(observaciones_a_visualizar):\n",
    "  output_of_single_observation = df.iloc[obs_number,0]   #Se extrae la salida correspondiente\n",
    "  print('\\nLa salida deseada es {}.'.format(output_of_single_observation))\n",
    "  \n",
    "  features_of_single_observation = df.iloc[obs_number,1:].values.reshape((28,28))   #Se extraen los atributos de entrada y se les cambia la forma, \n",
    "                                                                                    #de un vector fila a un arreglo cuadrado, note que np.sqrt(784)=28.\n",
    "  plt.figure()\n",
    "  plt.imshow(features_of_single_observation,cmap='gray') #Se grafica como una imagen en escala de grises. \n",
    "  plt.axis('off') #Esta instrucción quita los ejes x e y. \n",
    "  plt.show()"
   ]
  },
  {
   "cell_type": "markdown",
   "metadata": {},
   "source": [
    "# 3. Modelo y 4. Evaluación"
   ]
  },
  {
   "cell_type": "markdown",
   "metadata": {},
   "source": [
    "### Preparación de los Datos"
   ]
  },
  {
   "cell_type": "markdown",
   "metadata": {},
   "source": [
    "### Ejercicio 1\n",
    "\n",
    "Normalice los valores de todas las imágenes entre 0 y 1. Esto se puede lograr dividiendo toda la imagen entre 255."
   ]
  },
  {
   "cell_type": "markdown",
   "metadata": {},
   "source": [
    "### Ejercicio 2\n",
    "\n",
    "Particione los datos en los conjuntos de entrenamiento y prueba."
   ]
  },
  {
   "cell_type": "markdown",
   "metadata": {},
   "source": [
    "### Ejercicio 3\n",
    "\n",
    "Construya tres modelos de clasificación:\n",
    "\n",
    "- KNN\n",
    "- Regresión Logística\n",
    "- Random Forests\n",
    "\n",
    "Ajuste los hiperparámetros para cada uno de ellos. Puede usar Repeated Stratified Cross-Validation para evaluar la calidad de cada modelo. Consigne sus observaciones.\n",
    "\n",
    "Entrene y evalúe el desempeño del modelo por clase (en los conjuntos de entrenamiento y prueba) usando las métricas:\n",
    "\n",
    "- Accuracy\n",
    "- Precision\n",
    "- Recall\n",
    "- F1 score\n",
    "\n",
    "Evalúe el desempeño general del modelo (en los conjuntos de entrenamiento y prueba) usando las métricas:\n",
    "\n",
    "- Average Accuracy\n",
    "- Average Precision\n",
    "- Average Recall\n",
    "- Average F1 score\n",
    "\n",
    "Consigne sus observaciones, por ejemplo, cuáles números se clasifican mejor, etc."
   ]
  },
  {
   "cell_type": "markdown",
   "metadata": {},
   "source": [
    "### Ejercicio 4\n",
    "\n",
    "Haga el Análisis de Componentes Principales (PCA) para el conjunto de datos MNIST y escoja el conjunto de componentes que considere más adecuado."
   ]
  },
  {
   "cell_type": "markdown",
   "metadata": {},
   "source": [
    "### Ejercicio 5\n",
    "\n",
    "Usando el conjunto de datos transformados mediante PCA repita el ejercicio Ejercicio 3."
   ]
  },
  {
   "cell_type": "markdown",
   "metadata": {},
   "source": [
    "### Ejercicio 6\n",
    "\n",
    "Compare los resultados obtenidos usando el conjunto de datos transformados mediante PCA y los obtenidos con el conjunto de datos original. Compare también los tiempos de ejecución."
   ]
  }
 ],
 "metadata": {
  "colab": {
   "collapsed_sections": [],
   "name": "Taller_8_IA.ipynb",
   "provenance": []
  },
  "kernelspec": {
   "display_name": "Python 3 (ipykernel)",
   "language": "python",
   "name": "python3"
  },
  "language_info": {
   "codemirror_mode": {
    "name": "ipython",
    "version": 3
   },
   "file_extension": ".py",
   "mimetype": "text/x-python",
   "name": "python",
   "nbconvert_exporter": "python",
   "pygments_lexer": "ipython3",
   "version": "3.9.7"
  }
 },
 "nbformat": 4,
 "nbformat_minor": 1
}
